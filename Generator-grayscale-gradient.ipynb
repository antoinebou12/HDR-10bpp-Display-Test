{
 "cells": [
  {
   "cell_type": "code",
   "execution_count": 2,
   "metadata": {},
   "outputs": [],
   "source": [
    "import imageio\n",
    "import numpy as np"
   ]
  },
  {
   "cell_type": "code",
   "execution_count": 3,
   "metadata": {},
   "outputs": [],
   "source": [
    "def gray_gradient(width=3840, height=2160, channel=3, bpc=8, direction='width', inverse=False):\n",
    "    \"\"\"Generate simple gradient black to white for testing display \n",
    "        \n",
    "        Args:\n",
    "            width (int): width of the numpy array that contain the gradient\n",
    "            height (int): height of the numpy array that contain the gradient\n",
    "            channel (int): number of channel in the image (1, 3, 4)\n",
    "            bpc (int): bits per channel. 10: RGB30(R, G, B): np.uint16; 8: RGB24(R, G, B)(8  8  8): np.uint8\n",
    "            directon (str): the direction of the gradient created   width: BLACK ▶ WHITE;  height: BLACK \n",
    "                                                                                                     ▼\n",
    "                                                                                                   WHITE\n",
    "            inverse (bool): change the direction of the gradient True: ◀ or ▲ \n",
    "        Yields:\n",
    "            return gray gradient image (np.ndarray)\n",
    "        \n",
    "        Examples:\n",
    "            BLACK ▶ GRAY ▶ WHITE\n",
    "        >>> print(gray_gradient())\n",
    "        (array([[[  0,   0,   0],\n",
    "                [  0,   0,   0],\n",
    "                [  0,   0,   0],\n",
    "                ...,\n",
    "                [254, 254, 254],\n",
    "                [254, 254, 254],\n",
    "                [254, 254, 254]],\n",
    "\n",
    "               [[  0,   0,   0],\n",
    "                [  0,   0,   0],\n",
    "                [  0,   0,   0],\n",
    "                ...,\n",
    "    \"\"\"\n",
    "    \n",
    "    \n",
    "    img_dtype = {12: np.uint,10: np.uint16, 8: np.uint8}\n",
    "    \n",
    "    image = np.zeros((height, width, channel), dtype=img_dtype[bpc])\n",
    "    \n",
    "    for x in range(width):\n",
    "        for y in range(height):   \n",
    "                        \n",
    "            if direction == \"width\":\n",
    "                percentage = x/width\n",
    "        \n",
    "            elif direction == \"height\":\n",
    "                percentage = y/height\n",
    "        \n",
    "            image[y, x, :] = percentage * ((2 ** bpc) -1)\n",
    "\n",
    "    if inverse:\n",
    "        if direction == \"width\":\n",
    "            image = np.flip(image, 1)\n",
    "        elif direction == \"height\":\n",
    "            image = np.flip(image, 0)\n",
    "            \n",
    "    return image\n",
    "\n",
    "imageio.imwrite('gray_gradient_8_5.tiff', gray_gradient(direction='height'))\n",
    "imageio.imwrite('gray_gradient_8_6.tiff', gray_gradient(direction='height', inverse=True))\n",
    "imageio.imwrite('gray_gradient_8_7.tiff', gray_gradient())\n",
    "imageio.imwrite('gray_gradient_8_8.tiff', gray_gradient(inverse=True))\n",
    "imageio.imwrite('gray_gradient_10_5.tiff', gray_gradient(bpc=10, direction='height'))\n",
    "imageio.imwrite('gray_gradient_10_6.tiff', gray_gradient(bpc=10, direction='height', inverse=True))\n",
    "imageio.imwrite('gray_gradient_10_7.tiff', gray_gradient(bpc=10))\n",
    "imageio.imwrite('gray_gradient_10_8.tiff', gray_gradient(bpc=10, inverse=True))"
   ]
  },
  {
   "cell_type": "code",
   "execution_count": null,
   "metadata": {},
   "outputs": [],
   "source": []
  }
 ],
 "metadata": {
  "kernelspec": {
   "display_name": "Python 3",
   "language": "python",
   "name": "python3"
  },
  "language_info": {
   "codemirror_mode": {
    "name": "ipython",
    "version": 3
   },
   "file_extension": ".py",
   "mimetype": "text/x-python",
   "name": "python",
   "nbconvert_exporter": "python",
   "pygments_lexer": "ipython3",
   "version": "3.5.2"
  }
 },
 "nbformat": 4,
 "nbformat_minor": 2
}
