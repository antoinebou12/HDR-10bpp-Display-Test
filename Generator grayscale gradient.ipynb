{
 "cells": [
  {
   "cell_type": "code",
   "execution_count": 2,
   "metadata": {},
   "outputs": [],
   "source": [
    "import imageio\n",
    "import numpy as np"
   ]
  },
  {
   "cell_type": "code",
   "execution_count": 29,
   "metadata": {},
   "outputs": [],
   "source": [
    "def gray_gradient(width=1280, height=720, channel=3, bpc=8, direction='width', inverse=False):\n",
    "    \"\"\"Generate simple gradient black to white for testing display \n",
    "        \n",
    "        Args:\n",
    "            width (int): width of the numpy array that contain the gradient\n",
    "            height (int): height of the numpy array that contain the gradient\n",
    "            channel (int): number of channel in the image (1, 3, 4)\n",
    "            bpc (int): bits per channel. 10: RGB30(R, G, B): np.uint16; 8: RGB24(R, G, B)(8  8  8): np.uint8\n",
    "            directon (str): the direction of the gradient created   width: BLACK ▶ WHITE;  height: BLACK \n",
    "                                                                                                     ▼\n",
    "                                                                                                   WHITE\n",
    "            inverse (bool): change the direction of the gradient True: ◀ or ▲ \n",
    "        Yields:\n",
    "            return gray gradient image (np.ndarray)\n",
    "        \n",
    "        Examples:\n",
    "            BLACK ▶ GRAY ▶ WHITE\n",
    "        >>> print(gray_gradient())\n",
    "        (array([[[  0,   0,   0],\n",
    "                [  0,   0,   0],\n",
    "                [  0,   0,   0],\n",
    "                ...,\n",
    "                [254, 254, 254],\n",
    "                [254, 254, 254],\n",
    "                [254, 254, 254]],\n",
    "\n",
    "               [[  0,   0,   0],\n",
    "                [  0,   0,   0],\n",
    "                [  0,   0,   0],\n",
    "                ...,\n",
    "    \"\"\"\n",
    "    \n",
    "    \n",
    "    img_dtype = {10: np.uint16, 8: np.uint8}\n",
    "    \n",
    "    image = np.zeros((height, width, channel), dtype=img_dtype[bpc])\n",
    "\n",
    "    def get_percentage(i, val_max):\n",
    "        percentage = i/val_max     \n",
    "        return percentage\n",
    "        \n",
    "    for x in range(width):\n",
    "        for y in range(height):\n",
    "            if direction == 'width':\n",
    "                 percentage = get_percentage(x, width)\n",
    "            elif direction == 'height':\n",
    "                percentage = get_percentage(y, height)       \n",
    "                \n",
    "            image[y, x, :] = percentage * ((2 ** bpc) -1)\n",
    "    if inverse:\n",
    "        image = np.flip(image, 0)\n",
    "            \n",
    "    return image\n",
    "\n",
    "#imageio.imwrite('gray_gradient_8.tiff', gray_gradient())\n",
    "imageio.imwrite('gray_gradient_10.tiff', gray_gradient(bpc=10))"
   ]
  },
  {
   "cell_type": "code",
   "execution_count": null,
   "metadata": {},
   "outputs": [],
   "source": []
  }
 ],
 "metadata": {
  "kernelspec": {
   "display_name": "Python 3",
   "language": "python",
   "name": "python3"
  },
  "language_info": {
   "codemirror_mode": {
    "name": "ipython",
    "version": 3
   },
   "file_extension": ".py",
   "mimetype": "text/x-python",
   "name": "python",
   "nbconvert_exporter": "python",
   "pygments_lexer": "ipython3",
   "version": "3.6.5"
  }
 },
 "nbformat": 4,
 "nbformat_minor": 2
}
